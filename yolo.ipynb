{
 "cells": [
  {
   "cell_type": "code",
   "execution_count": 5,
   "metadata": {},
   "outputs": [
    {
     "name": "stdout",
     "output_type": "stream",
     "text": [
      "d:\\New folder\\yolo-annotation\\yolov10\n",
      "\n",
      "image 1/1 d:\\New folder\\yolo-annotation\\yolov10\\img.png: 320x640 3 vehicle-peoples, 62.2ms\n",
      "Speed: 1.3ms preprocess, 62.2ms inference, 0.6ms postprocess per image at shape (1, 3, 320, 640)\n"
     ]
    },
    {
     "data": {
      "text/plain": [
       "[ultralytics.engine.results.Results object with attributes:\n",
       " \n",
       " boxes: ultralytics.engine.results.Boxes object\n",
       " keypoints: None\n",
       " masks: None\n",
       " names: {0: 'people', 1: 'vehicle-people'}\n",
       " obb: None\n",
       " orig_img: array([[[ 33,  36,  34],\n",
       "         [ 34,  36,  34],\n",
       "         [ 58,  58,  58],\n",
       "         ...,\n",
       "         [ 20,  11,   0],\n",
       "         [ 36,  33,  28],\n",
       "         [ 46,  47,  45]],\n",
       " \n",
       "        [[ 34,  36,  34],\n",
       "         [ 40,  42,  40],\n",
       "         [ 96,  93,  97],\n",
       "         ...,\n",
       "         [ 20,  11,   0],\n",
       "         [ 22,  14,   4],\n",
       "         [ 44,  45,  43]],\n",
       " \n",
       "        [[ 34,  36,  34],\n",
       "         [ 93,  92,  93],\n",
       "         [104, 100, 105],\n",
       "         ...,\n",
       "         [ 20,  11,   0],\n",
       "         [ 20,  11,   0],\n",
       "         [ 32,  29,  22]],\n",
       " \n",
       "        ...,\n",
       " \n",
       "        [[131, 128, 126],\n",
       "         [131, 130, 127],\n",
       "         [133, 133, 129],\n",
       "         ...,\n",
       "         [  7,   1,   9],\n",
       "         [  0,   0,   0],\n",
       "         [  0,   0,   0]],\n",
       " \n",
       "        [[177, 176, 173],\n",
       "         [177, 177, 174],\n",
       "         [180, 179, 177],\n",
       "         ...,\n",
       "         [ 26,  18,  29],\n",
       "         [  1,   0,   3],\n",
       "         [  0,   0,   0]],\n",
       " \n",
       "        [[182, 182, 182],\n",
       "         [182, 182, 182],\n",
       "         [182, 182, 182],\n",
       "         ...,\n",
       "         [ 36,  27,  38],\n",
       "         [  5,   0,   6],\n",
       "         [  0,   0,   0]]], dtype=uint8)\n",
       " orig_shape: (531, 1066)\n",
       " path: 'd:\\\\New folder\\\\yolo-annotation\\\\yolov10\\\\img.png'\n",
       " probs: None\n",
       " save_dir: 'C:\\\\Users\\\\Alomgir27\\\\yolov10\\\\runs\\\\detect\\\\predict'\n",
       " speed: {'preprocess': 1.3043880462646484, 'inference': 62.21461296081543, 'postprocess': 0.6096363067626953}]"
      ]
     },
     "execution_count": 5,
     "metadata": {},
     "output_type": "execute_result"
    }
   ],
   "source": [
    "from ultralytics import YOLO\n",
    "import os\n",
    "\n",
    "print(os.getcwd())\n",
    "model = YOLO(\"best.pt\")\n",
    "\n",
    "\n",
    "def detect(image_path):\n",
    "    results = model.predict(image_path)\n",
    "    results[0].show()\n",
    "    return results\n",
    "\n",
    "img = f'{os.getcwd()}/img.png'\n",
    "detect(img)\n",
    "\n"
   ]
  },
  {
   "cell_type": "code",
   "execution_count": 3,
   "metadata": {},
   "outputs": [
    {
     "name": "stdout",
     "output_type": "stream",
     "text": [
      "Requirement already satisfied: serial in c:\\users\\alomgir27\\anaconda3\\lib\\site-packages (0.0.97)\n",
      "Requirement already satisfied: future>=0.17.1 in c:\\users\\alomgir27\\anaconda3\\lib\\site-packages (from serial) (1.0.0)\n",
      "Requirement already satisfied: pyyaml>=3.13 in c:\\users\\alomgir27\\anaconda3\\lib\\site-packages (from serial) (6.0.1)\n",
      "Requirement already satisfied: iso8601>=0.1.12 in c:\\users\\alomgir27\\anaconda3\\lib\\site-packages (from serial) (2.1.0)\n"
     ]
    },
    {
     "ename": "",
     "evalue": "",
     "output_type": "error",
     "traceback": [
      "\u001b[1;31mThe Kernel crashed while executing code in the current cell or a previous cell. \n",
      "\u001b[1;31mPlease review the code in the cell(s) to identify a possible cause of the failure. \n",
      "\u001b[1;31mClick <a href='https://aka.ms/vscodeJupyterKernelCrash'>here</a> for more info. \n",
      "\u001b[1;31mView Jupyter <a href='command:jupyter.viewOutput'>log</a> for further details."
     ]
    }
   ],
   "source": [
    "!pip install serial\n"
   ]
  },
  {
   "cell_type": "code",
   "execution_count": null,
   "metadata": {},
   "outputs": [],
   "source": []
  }
 ],
 "metadata": {
  "kernelspec": {
   "display_name": ".venv",
   "language": "python",
   "name": "python3"
  },
  "language_info": {
   "codemirror_mode": {
    "name": "ipython",
    "version": 3
   },
   "file_extension": ".py",
   "mimetype": "text/x-python",
   "name": "python",
   "nbconvert_exporter": "python",
   "pygments_lexer": "ipython3",
   "version": "3.12.4"
  }
 },
 "nbformat": 4,
 "nbformat_minor": 2
}
